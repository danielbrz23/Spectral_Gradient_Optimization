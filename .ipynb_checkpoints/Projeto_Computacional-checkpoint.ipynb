{
 "cells": [
  {
   "cell_type": "code",
   "execution_count": 1,
   "id": "f691bc4a-d804-4bf4-9611-77de53bb28ca",
   "metadata": {},
   "outputs": [
    {
     "name": "stdout",
     "output_type": "stream",
     "text": [
      "Defaulting to user installation because normal site-packages is not writeable\n",
      "Collecting pycutest\n",
      "  Downloading pycutest-1.7.1-py3-none-any.whl (48 kB)\n",
      "\u001b[2K     \u001b[38;2;114;156;31m━━━━━━━━━━━━━━━━━━━━━━━━━━━━━━━━━━━━━━━━\u001b[0m \u001b[32m48.8/48.8 KB\u001b[0m \u001b[31m5.9 MB/s\u001b[0m eta \u001b[36m0:00:00\u001b[0m\n",
      "\u001b[?25hRequirement already satisfied: scipy in /home/carlosbrasil/.local/lib/python3.10/site-packages (from pycutest) (1.14.1)\n",
      "Requirement already satisfied: numpy in /home/carlosbrasil/.local/lib/python3.10/site-packages (from pycutest) (1.26.4)\n",
      "Requirement already satisfied: setuptools in /usr/lib/python3/dist-packages (from pycutest) (59.6.0)\n",
      "Installing collected packages: pycutest\n",
      "Successfully installed pycutest-1.7.1\n"
     ]
    }
   ],
   "source": [
    "!pip install pycutest"
   ]
  },
  {
   "cell_type": "code",
   "execution_count": 4,
   "id": "fed26f11-9631-476a-825c-bafe52189c24",
   "metadata": {
    "scrolled": true
   },
   "outputs": [
    {
     "ename": "ImportError",
     "evalue": "Environment variable CUTEST not set - have you installed CUTEst correctly?",
     "output_type": "error",
     "traceback": [
      "\u001b[0;31m---------------------------------------------------------------------------\u001b[0m",
      "\u001b[0;31mImportError\u001b[0m                               Traceback (most recent call last)",
      "Cell \u001b[0;32mIn[4], line 2\u001b[0m\n\u001b[1;32m      1\u001b[0m \u001b[38;5;66;03m# loading packages\u001b[39;00m\n\u001b[0;32m----> 2\u001b[0m \u001b[38;5;28;01mimport\u001b[39;00m \u001b[38;5;21;01mpycutest\u001b[39;00m \u001b[38;5;28;01mas\u001b[39;00m \u001b[38;5;21;01mpc\u001b[39;00m\n\u001b[1;32m      3\u001b[0m \u001b[38;5;28;01mimport\u001b[39;00m \u001b[38;5;21;01mnumpy\u001b[39;00m \u001b[38;5;28;01mas\u001b[39;00m \u001b[38;5;21;01mnp\u001b[39;00m\n",
      "File \u001b[0;32m~/.local/lib/python3.10/site-packages/pycutest/__init__.py:7\u001b[0m\n\u001b[1;32m      4\u001b[0m \u001b[38;5;66;03m# Define submodules to expose on wildcard imports\u001b[39;00m\n\u001b[1;32m      5\u001b[0m __all__ \u001b[38;5;241m=\u001b[39m []\n\u001b[0;32m----> 7\u001b[0m \u001b[38;5;28;01mfrom\u001b[39;00m \u001b[38;5;21;01m.\u001b[39;00m\u001b[38;5;21;01mbuild_interface\u001b[39;00m \u001b[38;5;28;01mimport\u001b[39;00m import_problem, clear_cache, all_cached_problems\n\u001b[1;32m      8\u001b[0m __all__ \u001b[38;5;241m+\u001b[39m\u001b[38;5;241m=\u001b[39m [\u001b[38;5;124m'\u001b[39m\u001b[38;5;124mimport_problem\u001b[39m\u001b[38;5;124m'\u001b[39m, \u001b[38;5;124m'\u001b[39m\u001b[38;5;124mclear_cache\u001b[39m\u001b[38;5;124m'\u001b[39m, \u001b[38;5;124m'\u001b[39m\u001b[38;5;124mall_cached_problems\u001b[39m\u001b[38;5;124m'\u001b[39m]\n\u001b[1;32m     10\u001b[0m \u001b[38;5;28;01mfrom\u001b[39;00m \u001b[38;5;21;01m.\u001b[39;00m\u001b[38;5;21;01msifdecode_extras\u001b[39;00m \u001b[38;5;28;01mimport\u001b[39;00m print_available_sif_params, problem_properties, find_problems\n",
      "File \u001b[0;32m~/.local/lib/python3.10/site-packages/pycutest/build_interface.py:13\u001b[0m\n\u001b[1;32m     11\u001b[0m \u001b[38;5;28;01mfrom\u001b[39;00m \u001b[38;5;21;01m.\u001b[39;00m\u001b[38;5;21;01msystem_paths\u001b[39;00m \u001b[38;5;28;01mimport\u001b[39;00m get_cache_path, get_sifdecoder_path\n\u001b[1;32m     12\u001b[0m \u001b[38;5;28;01mfrom\u001b[39;00m \u001b[38;5;21;01m.\u001b[39;00m\u001b[38;5;21;01mc_interface\u001b[39;00m \u001b[38;5;28;01mimport\u001b[39;00m itf_c_source\n\u001b[0;32m---> 13\u001b[0m \u001b[38;5;28;01mfrom\u001b[39;00m \u001b[38;5;21;01m.\u001b[39;00m\u001b[38;5;21;01minstall_scripts\u001b[39;00m \u001b[38;5;28;01mimport\u001b[39;00m get_setup_script\n\u001b[1;32m     14\u001b[0m \u001b[38;5;28;01mfrom\u001b[39;00m \u001b[38;5;21;01m.\u001b[39;00m\u001b[38;5;21;01mpython_interface\u001b[39;00m \u001b[38;5;28;01mimport\u001b[39;00m get_init_script\n\u001b[1;32m     15\u001b[0m \u001b[38;5;28;01mfrom\u001b[39;00m \u001b[38;5;21;01m.\u001b[39;00m\u001b[38;5;21;01mproblem_class\u001b[39;00m \u001b[38;5;28;01mimport\u001b[39;00m CUTEstProblem\n",
      "File \u001b[0;32m~/.local/lib/python3.10/site-packages/pycutest/install_scripts.py:95\u001b[0m\n\u001b[1;32m     71\u001b[0m setupScriptLinux\u001b[38;5;241m=\u001b[39m\u001b[38;5;124m\"\"\"\u001b[39m\n\u001b[1;32m     72\u001b[0m \u001b[38;5;124mdefine_macros=[(\u001b[39m\u001b[38;5;124m'\u001b[39m\u001b[38;5;124mLINUX\u001b[39m\u001b[38;5;124m'\u001b[39m\u001b[38;5;124m, None)]\u001b[39m\n\u001b[1;32m     73\u001b[0m \u001b[38;5;124minclude_dirs=[np.get_include(),os.environ[\u001b[39m\u001b[38;5;124m'\u001b[39m\u001b[38;5;124mCUTEST\u001b[39m\u001b[38;5;124m'\u001b[39m\u001b[38;5;124m]+\u001b[39m\u001b[38;5;124m'\u001b[39m\u001b[38;5;124m/include/\u001b[39m\u001b[38;5;124m'\u001b[39m\u001b[38;5;124m]\u001b[39m\n\u001b[0;32m   (...)\u001b[0m\n\u001b[1;32m     78\u001b[0m \u001b[38;5;124mextra_link_args=[]\u001b[39m\n\u001b[1;32m     79\u001b[0m \u001b[38;5;124m\"\"\"\u001b[39m\n\u001b[1;32m     81\u001b[0m \u001b[38;5;66;03m#\u001b[39;00m\n\u001b[1;32m     82\u001b[0m \u001b[38;5;66;03m# Mac-specific part of setup.py\u001b[39;00m\n\u001b[1;32m     83\u001b[0m \u001b[38;5;66;03m#\u001b[39;00m\n\u001b[1;32m     84\u001b[0m setupScriptMac\u001b[38;5;241m=\u001b[39m\u001b[38;5;124m\"\"\"\u001b[39m\n\u001b[1;32m     85\u001b[0m \u001b[38;5;124mimport subprocess\u001b[39m\n\u001b[1;32m     86\u001b[0m \u001b[38;5;124m# extract the homebrew prefix\u001b[39m\n\u001b[1;32m     87\u001b[0m \u001b[38;5;124mhomebrew_prefix = subprocess.check_output([\u001b[39m\u001b[38;5;124m'\u001b[39m\u001b[38;5;124mbrew\u001b[39m\u001b[38;5;124m'\u001b[39m\u001b[38;5;124m, \u001b[39m\u001b[38;5;124m'\u001b[39m\u001b[38;5;124m--prefix\u001b[39m\u001b[38;5;124m'\u001b[39m\u001b[38;5;124m]).decode(\u001b[39m\u001b[38;5;124m'\u001b[39m\u001b[38;5;124mutf-8\u001b[39m\u001b[38;5;124m'\u001b[39m\u001b[38;5;124m)[:-1]\u001b[39m\n\u001b[1;32m     88\u001b[0m \u001b[38;5;124mdefine_macros=[(\u001b[39m\u001b[38;5;124m'\u001b[39m\u001b[38;5;124mLINUX\u001b[39m\u001b[38;5;124m'\u001b[39m\u001b[38;5;124m, None)]\u001b[39m\n\u001b[1;32m     89\u001b[0m \u001b[38;5;124minclude_dirs=[np.get_include(),os.environ[\u001b[39m\u001b[38;5;124m'\u001b[39m\u001b[38;5;124mCUTEST\u001b[39m\u001b[38;5;124m'\u001b[39m\u001b[38;5;124m]+\u001b[39m\u001b[38;5;124m'\u001b[39m\u001b[38;5;124m/include/\u001b[39m\u001b[38;5;124m'\u001b[39m\u001b[38;5;124m]\u001b[39m\n\u001b[1;32m     90\u001b[0m \u001b[38;5;124mobjFileList=glob(\u001b[39m\u001b[38;5;124m'\u001b[39m\u001b[38;5;124m*.o\u001b[39m\u001b[38;5;124m'\u001b[39m\u001b[38;5;124m)\u001b[39m\n\u001b[1;32m     91\u001b[0m \u001b[38;5;124mobjFileList.append(\u001b[39m\u001b[38;5;124m'\u001b[39m\u001b[38;5;132;01m%s\u001b[39;00m\u001b[38;5;124m'\u001b[39m\u001b[38;5;124m)\u001b[39m\n\u001b[1;32m     92\u001b[0m \u001b[38;5;124mlibraries=[\u001b[39m\u001b[38;5;124m'\u001b[39m\u001b[38;5;124mgfortran\u001b[39m\u001b[38;5;124m'\u001b[39m\u001b[38;5;124m]\u001b[39m\n\u001b[1;32m     93\u001b[0m \u001b[38;5;124mlibrary_dirs=[max(glob(homebrew_prefix + \u001b[39m\u001b[38;5;124m'\u001b[39m\u001b[38;5;124m/Cellar/gcc/*/lib/gcc/*/\u001b[39m\u001b[38;5;124m'\u001b[39m\u001b[38;5;124m),key=os.path.getmtime)]\u001b[39m\n\u001b[1;32m     94\u001b[0m \u001b[38;5;124mextra_link_args=[\u001b[39m\u001b[38;5;124m'\u001b[39m\u001b[38;5;124m-Wl,-no_compact_unwind\u001b[39m\u001b[38;5;124m'\u001b[39m\u001b[38;5;124m]\u001b[39m\n\u001b[0;32m---> 95\u001b[0m \u001b[38;5;124m\"\"\"\u001b[39m \u001b[38;5;241m%\u001b[39m \u001b[43mget_cutest_path\u001b[49m\u001b[43m(\u001b[49m\u001b[43m)\u001b[49m  \u001b[38;5;66;03m# will probably get the homebrew location, but may revert to environment variables\u001b[39;00m\n\u001b[1;32m     98\u001b[0m \u001b[38;5;28;01mdef\u001b[39;00m \u001b[38;5;21mget_setup_script\u001b[39m():\n\u001b[1;32m     99\u001b[0m     \u001b[38;5;28;01mif\u001b[39;00m sys\u001b[38;5;241m.\u001b[39mplatform \u001b[38;5;241m==\u001b[39m \u001b[38;5;124m\"\u001b[39m\u001b[38;5;124mlinux\u001b[39m\u001b[38;5;124m\"\u001b[39m:\n",
      "File \u001b[0;32m~/.local/lib/python3.10/site-packages/pycutest/system_paths.py:44\u001b[0m, in \u001b[0;36mget_cutest_path\u001b[0;34m()\u001b[0m\n\u001b[1;32m     42\u001b[0m         \u001b[38;5;28;01mraise\u001b[39;00m \u001b[38;5;167;01mRuntimeError\u001b[39;00m(\u001b[38;5;124m'\u001b[39m\u001b[38;5;124mCould not find CUTEST installation - have CUTEST and MYARCH environment variables been set correctly?\u001b[39m\u001b[38;5;124m'\u001b[39m)\n\u001b[1;32m     43\u001b[0m \u001b[38;5;28;01melse\u001b[39;00m:  \u001b[38;5;66;03m# Linux\u001b[39;00m\n\u001b[0;32m---> 44\u001b[0m     \u001b[43mcheck_environment_vars_exist\u001b[49m\u001b[43m(\u001b[49m\u001b[43m[\u001b[49m\u001b[38;5;124;43m'\u001b[39;49m\u001b[38;5;124;43mCUTEST\u001b[39;49m\u001b[38;5;124;43m'\u001b[39;49m\u001b[43m,\u001b[49m\u001b[43m \u001b[49m\u001b[38;5;124;43m'\u001b[39;49m\u001b[38;5;124;43mMYARCH\u001b[39;49m\u001b[38;5;124;43m'\u001b[39;49m\u001b[43m]\u001b[49m\u001b[43m)\u001b[49m\n\u001b[1;32m     45\u001b[0m     cutest_path \u001b[38;5;241m=\u001b[39m os\u001b[38;5;241m.\u001b[39mpath\u001b[38;5;241m.\u001b[39mjoin(os\u001b[38;5;241m.\u001b[39menviron[\u001b[38;5;124m'\u001b[39m\u001b[38;5;124mCUTEST\u001b[39m\u001b[38;5;124m'\u001b[39m], \u001b[38;5;124m'\u001b[39m\u001b[38;5;124mobjects\u001b[39m\u001b[38;5;124m'\u001b[39m, os\u001b[38;5;241m.\u001b[39menviron[\u001b[38;5;124m'\u001b[39m\u001b[38;5;124mMYARCH\u001b[39m\u001b[38;5;124m'\u001b[39m], \u001b[38;5;124m'\u001b[39m\u001b[38;5;124mdouble\u001b[39m\u001b[38;5;124m'\u001b[39m, \u001b[38;5;124m'\u001b[39m\u001b[38;5;124mlibcutest.a\u001b[39m\u001b[38;5;124m'\u001b[39m)\n\u001b[1;32m     46\u001b[0m     \u001b[38;5;28;01mif\u001b[39;00m os\u001b[38;5;241m.\u001b[39mpath\u001b[38;5;241m.\u001b[39misfile(cutest_path):\n",
      "File \u001b[0;32m~/.local/lib/python3.10/site-packages/pycutest/system_paths.py:27\u001b[0m, in \u001b[0;36mcheck_environment_vars_exist\u001b[0;34m(vars)\u001b[0m\n\u001b[1;32m     25\u001b[0m \u001b[38;5;28;01mfor\u001b[39;00m env_var \u001b[38;5;129;01min\u001b[39;00m \u001b[38;5;28mvars\u001b[39m:\n\u001b[1;32m     26\u001b[0m     \u001b[38;5;28;01mif\u001b[39;00m \u001b[38;5;129;01mnot\u001b[39;00m env_var \u001b[38;5;129;01min\u001b[39;00m os\u001b[38;5;241m.\u001b[39menviron:\n\u001b[0;32m---> 27\u001b[0m         \u001b[38;5;28;01mraise\u001b[39;00m \u001b[38;5;167;01mImportError\u001b[39;00m(\u001b[38;5;124m\"\u001b[39m\u001b[38;5;124mEnvironment variable \u001b[39m\u001b[38;5;132;01m%s\u001b[39;00m\u001b[38;5;124m not set - have you installed CUTEst correctly?\u001b[39m\u001b[38;5;124m\"\u001b[39m \u001b[38;5;241m%\u001b[39m env_var)\n\u001b[1;32m     28\u001b[0m \u001b[38;5;28;01mreturn\u001b[39;00m\n",
      "\u001b[0;31mImportError\u001b[0m: Environment variable CUTEST not set - have you installed CUTEst correctly?"
     ]
    }
   ],
   "source": [
    "# loading packages\n",
    "import pycutest as pc\n",
    "import numpy as np"
   ]
  },
  {
   "cell_type": "markdown",
   "id": "29c7f0d1-43cc-4f1e-8712-119f3f7f9df0",
   "metadata": {},
   "source": [
    "# Non-linear Optimization Project - Spectral Gradient Method\n",
    "\n",
    "    The present work is part of the Non-linear Optimization Course of UNICAMP (MS629). The purpose of the project is the implementation of three algorithms of optimization: Descendent Gradient, BFGS Quasi-Newton and Spectral Gradient methods. All the algorithms were implemented using python and the library pyCUTest."
   ]
  },
  {
   "cell_type": "markdown",
   "id": "d5e25573-8b6d-4ffc-8cd6-891ab082dac3",
   "metadata": {},
   "source": [
    "## 1. Descendent Gradient Method"
   ]
  },
  {
   "cell_type": "code",
   "execution_count": null,
   "id": "a7fadb6d-890b-4f92-83a6-d4339fb15246",
   "metadata": {},
   "outputs": [],
   "source": [
    "# building the method/function\n",
    "def steepest_descent(x0,fx,gradf):\n",
    "    xk = x0\n",
    "    k = 0\n",
    "    while (gradf(xk) != 0 or k>100): # stop condition\n",
    "        d = -gradf(xk) # steepest descent direction\n",
    "        alpha =  armijo (fx, d, xk)\n",
    "        xk = x0+alpha* d\n",
    "        k +=1"
   ]
  }
 ],
 "metadata": {
  "kernelspec": {
   "display_name": "Python 3 (ipykernel)",
   "language": "python",
   "name": "python3"
  },
  "language_info": {
   "codemirror_mode": {
    "name": "ipython",
    "version": 3
   },
   "file_extension": ".py",
   "mimetype": "text/x-python",
   "name": "python",
   "nbconvert_exporter": "python",
   "pygments_lexer": "ipython3",
   "version": "3.10.12"
  }
 },
 "nbformat": 4,
 "nbformat_minor": 5
}
